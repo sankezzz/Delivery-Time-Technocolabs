{
 "cells": [
  {
   "cell_type": "code",
   "execution_count": 2,
   "metadata": {},
   "outputs": [
    {
     "name": "stdout",
     "output_type": "stream",
     "text": [
      "   data  route_type  start_scan_to_end_scan  actual_distance_to_destination  \\\n",
      "0   1.0         0.0                    86.0                       10.435660   \n",
      "1   1.0         0.0                    86.0                       18.936842   \n",
      "2   1.0         0.0                    86.0                       27.637279   \n",
      "3   1.0         0.0                    86.0                       36.118028   \n",
      "4   1.0         0.0                    86.0                       39.386040   \n",
      "\n",
      "   segment_actual_time  segment_osrm_time  od_duration_dirr_hour  \\\n",
      "0                 14.0               11.0               1.436894   \n",
      "1                 10.0                9.0               1.436894   \n",
      "2                 16.0                7.0               1.436894   \n",
      "3                 21.0               12.0               1.436894   \n",
      "4                  6.0                5.0               1.436894   \n",
      "\n",
      "   osrm_distance_time_ratio  distance_time_ratio  segment_actual_time_sum  \n",
      "0                  1.087755            -3.564340                     14.0  \n",
      "1                  1.086215            -5.063158                     24.0  \n",
      "2                  1.162125           -12.362721                     40.0  \n",
      "3                  1.139050           -25.881972                     61.0  \n",
      "4                  1.232230           -28.613960                     67.0  \n",
      "Model has been saved as 'linear_regression_model_v2.pkl'\n"
     ]
    }
   ],
   "source": [
    "import pandas as pd\n",
    "from sklearn.model_selection import train_test_split\n",
    "from sklearn.linear_model import LinearRegression\n",
    "import joblib\n",
    "\n",
    "# Load the data from a CSV file\n",
    "# Replace 'your_dataset.csv' with the actual path to your training data file\n",
    "data = pd.read_csv('rfe_selected_features.csv')\n",
    "\n",
    "# Preview the data (optional)\n",
    "print(data.head())\n",
    "\n",
    "# Define the features (X) and target variable (y)\n",
    "X = data[['actual_distance_to_destination', 'segment_osrm_time', 'od_duration_dirr_hour', \n",
    "          'osrm_distance_time_ratio', 'distance_time_ratio']]\n",
    "y = data['segment_actual_time_sum']\n",
    "\n",
    "# Split the data into training and testing sets (80% train, 20% test)\n",
    "X_train, X_test, y_train, y_test = train_test_split(X, y, test_size=0.2, random_state=42)\n",
    "\n",
    "# Initialize and train the linear regression model\n",
    "model = LinearRegression()\n",
    "model.fit(X_train, y_train)\n",
    "\n",
    "# Save the trained model to a file\n",
    "joblib.dump(model, 'rfe_data_model.pkl')\n",
    "\n",
    "print(\"Model has been saved as 'linear_regression_model_v2.pkl'\")\n"
   ]
  },
  {
   "cell_type": "code",
   "execution_count": 8,
   "metadata": {},
   "outputs": [
    {
     "name": "stdout",
     "output_type": "stream",
     "text": [
      "Predicted Delivery Time:\n",
      "13.77\n",
      "24.13\n",
      "10.70\n",
      "7.06\n",
      "16.69\n"
     ]
    }
   ],
   "source": [
    "import pandas as pd\n",
    "import joblib\n",
    "\n",
    "# Load the new test data from a CSV file\n",
    "new_data = pd.read_csv('test.csv')\n",
    "\n",
    "# Prepare the features (X) for the new data\n",
    "X_new = new_data[['actual_distance_to_destination', 'segment_osrm_time', 'od_duration_dirr_hour', \n",
    "                  'osrm_distance_time_ratio', 'distance_time_ratio']]\n",
    "\n",
    "# Load the saved model\n",
    "loaded_model = joblib.load('rfe_data_model.pkl')\n",
    "\n",
    "# Make predictions using the loaded model\n",
    "y_new_pred = loaded_model.predict(X_new)\n",
    "\n",
    "# Display only the predicted delivery time (predicted_segment_actual_time_sum)\n",
    "print(\"Predicted Delivery Time:\")\n",
    "for prediction in y_new_pred:\n",
    "    print(f\"{prediction:.2f}\")\n"
   ]
  },
  {
   "cell_type": "code",
   "execution_count": null,
   "metadata": {},
   "outputs": [],
   "source": []
  }
 ],
 "metadata": {
  "kernelspec": {
   "display_name": "Python 3",
   "language": "python",
   "name": "python3"
  },
  "language_info": {
   "codemirror_mode": {
    "name": "ipython",
    "version": 3
   },
   "file_extension": ".py",
   "mimetype": "text/x-python",
   "name": "python",
   "nbconvert_exporter": "python",
   "pygments_lexer": "ipython3",
   "version": "3.12.2"
  }
 },
 "nbformat": 4,
 "nbformat_minor": 2
}
